{
 "cells": [
  {
   "cell_type": "code",
   "execution_count": 23,
   "id": "6151cc43",
   "metadata": {},
   "outputs": [],
   "source": [
    "import smtplib\n",
    "import os\n",
    "from email.mime.text import MIMEText\n",
    "from email.mime.multipart import MIMEMultipart\n",
    "from email.mime.application import MIMEApplication\n",
    "from typing import List, Optional\n",
    "\n"
   ]
  },
  {
   "cell_type": "code",
   "execution_count": 26,
   "id": "0f91bfeb",
   "metadata": {},
   "outputs": [],
   "source": [
    "import toml\n",
    "with open('secrets.toml','r') as s:\n",
    "    secrets = toml.load(s)\n"
   ]
  },
  {
   "cell_type": "code",
   "execution_count": 30,
   "id": "47f1ab50",
   "metadata": {},
   "outputs": [],
   "source": [
    "email = secrets.get('email')\n",
    "password = secrets.get('epassword')"
   ]
  },
  {
   "cell_type": "code",
   "execution_count": 31,
   "id": "a250cf2e",
   "metadata": {},
   "outputs": [],
   "source": [
    "from typing import Optional, List\n",
    "import os\n",
    "import smtplib\n",
    "from email.mime.multipart import MIMEMultipart\n",
    "from email.mime.text import MIMEText\n",
    "from email.mime.application import MIMEApplication\n",
    "\n",
    "def send_compliance_email(\n",
    "    sender_email: str,\n",
    "    sender_password: str,\n",
    "    recipient_email: List[str],  # <-- accept list of recipients\n",
    "    compliance_status: str,\n",
    "    report: str,\n",
    "    smtp_server: str = \"smtp.gmail.com\",\n",
    "    smtp_port: int = 587,\n",
    "    use_html: bool = False,\n",
    "    attachments: Optional[List[str]] = None\n",
    ") -> bool:\n",
    "    try:\n",
    "        msg = MIMEMultipart()\n",
    "        msg['From'] = sender_email\n",
    "        msg['To'] = \", \".join(recipient_email)  # comma-separated string for headers\n",
    "        msg['Subject'] = \"Compliance Status Report\"\n",
    "\n",
    "        if use_html:\n",
    "            body = f\"\"\"\n",
    "            <html>\n",
    "            <body>\n",
    "                <h2>Compliance Status: {compliance_status}</h2>\n",
    "                <p><strong>Report:</strong></p>\n",
    "                <pre>{report}</pre>\n",
    "            </body>\n",
    "            </html>\n",
    "            \"\"\"\n",
    "            msg.attach(MIMEText(body, 'html'))\n",
    "        else:\n",
    "            body = f\"Compliance Status: {compliance_status}\\n\\nReport:\\n{report}\"\n",
    "            msg.attach(MIMEText(body, 'plain'))\n",
    "\n",
    "        if attachments:\n",
    "            for filepath in attachments:\n",
    "                if os.path.isfile(filepath):\n",
    "                    with open(filepath, 'rb') as file:\n",
    "                        part = MIMEApplication(file.read(), Name=os.path.basename(filepath))\n",
    "                        part['Content-Disposition'] = f'attachment; filename=\"{os.path.basename(filepath)}\"'\n",
    "                        msg.attach(part)\n",
    "                else:\n",
    "                    print(f\"Attachment not found: {filepath}\")\n",
    "\n",
    "        with smtplib.SMTP(smtp_server, smtp_port, timeout=10) as server:\n",
    "            server.starttls()\n",
    "            server.login(sender_email, sender_password)\n",
    "            server.sendmail(sender_email, recipient_email, msg.as_string())  # pass list here\n",
    "\n",
    "        print(\"Email sent successfully.\")\n",
    "        return True\n",
    "\n",
    "    except smtplib.SMTPException as e:\n",
    "        print(f\"SMTP error occurred: {e}\")\n",
    "        return False\n",
    "    except Exception as ex:\n",
    "        print(f\"An unexpected error occurred: {ex}\")\n",
    "        return False\n"
   ]
  },
  {
   "cell_type": "code",
   "execution_count": 32,
   "id": "d570eddb",
   "metadata": {},
   "outputs": [
    {
     "name": "stdout",
     "output_type": "stream",
     "text": [
      "Email sent successfully.\n"
     ]
    },
    {
     "data": {
      "text/plain": [
       "True"
      ]
     },
     "execution_count": 32,
     "metadata": {},
     "output_type": "execute_result"
    }
   ],
   "source": [
    "send_compliance_email(\n",
    "    sender_email=email,\n",
    "    sender_password=password,\n",
    "    recipient_email= [ \n",
    "        'drejones021@gmail.com'\n",
    "                        ],\n",
    "    compliance_status=\"AAHHHH\",\n",
    "    report=\"this is a test of the notification system\",\n",
    "    use_html=True\n",
    "    #attachments=[\"/path/to/report.pdf\", \"/path/to/logfile.txt\"]\n",
    ")"
   ]
  },
  {
   "cell_type": "code",
   "execution_count": null,
   "id": "cf386adb",
   "metadata": {},
   "outputs": [],
   "source": []
  }
 ],
 "metadata": {
  "kernelspec": {
   "display_name": "accure",
   "language": "python",
   "name": "python3"
  },
  "language_info": {
   "codemirror_mode": {
    "name": "ipython",
    "version": 3
   },
   "file_extension": ".py",
   "mimetype": "text/x-python",
   "name": "python",
   "nbconvert_exporter": "python",
   "pygments_lexer": "ipython3",
   "version": "3.12.11"
  }
 },
 "nbformat": 4,
 "nbformat_minor": 5
}
